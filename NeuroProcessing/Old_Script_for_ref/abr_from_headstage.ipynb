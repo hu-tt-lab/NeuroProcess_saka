{
 "cells": [
  {
   "cell_type": "code",
   "execution_count": 7,
   "metadata": {},
   "outputs": [],
   "source": [
    "\n",
    "#使用するライブラリの読み込み\n",
    "import pandas as pd\n",
    "import numpy as np\n",
    "from matplotlib import pyplot as plt\n",
    "import json\n",
    "import os, sys\n",
    "import scipy.io\n",
    "from scipy import signal\n",
    "import matplotlib as mpl\n",
    "import matplotlib.pyplot as plt\n",
    "import statistics\n",
    "import math\n",
    "import gc\n",
    "from pypl2 import pl2_ad, pl2_spikes, pl2_events, pl2_info, pl2_comments\n",
    "import sys\n",
    "import os\n",
    "import glia,tath,cosnail"
   ]
  },
  {
   "cell_type": "code",
   "execution_count": 8,
   "metadata": {},
   "outputs": [],
   "source": [
    "#bandpass_filterの設定\n",
    "def bandpass(x, samplerate, fp, fs, gpass, gstop):\n",
    "    fn = samplerate / 2                           #ナイキスト周波数\n",
    "    wp = fp / fn                                  #ナイキスト周波数で通過域端周波数を正規化\n",
    "    ws = fs / fn                                  #ナイキスト周波数で阻止域端周波数を正規化\n",
    "    N, Wn = signal.buttord(wp, ws, gpass, gstop)  #オーダーとバターワースの正規化周波数を計算\n",
    "    b, a = signal.butter(N, Wn, \"band\")           #フィルタ伝達関数の分子と分母を計算\n",
    "    y = signal.filtfilt(b, a, x)                  #信号に対してフィルタをかける\n",
    "    return y                                      #フィルタ後の信号を返す\n"
   ]
  },
  {
   "cell_type": "code",
   "execution_count": 9,
   "metadata": {},
   "outputs": [],
   "source": [
    "def plot_event(fig, axes, xlim):\n",
    "    ax = fig.add_subplot(111, zorder=-1)\n",
    "    ax.set_xlim(xlim[0], xlim[1])\n",
    "    ax.spines.top.set_visible(False)\n",
    "    ax.spines.right.set_visible(False)\n",
    "    ax.spines.left.set_visible(False)\n",
    "    ax.spines.bottom.set_position((\"outward\", 10))\n",
    "    ax.get_shared_x_axes().join(ax, axes[0])\n",
    "    ax.tick_params(left=False, labelleft=False, right=False)\n",
    "    ax.set_ylim([0, 1])\n",
    "    ax.plot([0, 0], [0, 1], color=\"k\", alpha=0.3)\n",
    "    return"
   ]
  },
  {
   "cell_type": "code",
   "execution_count": 10,
   "metadata": {},
   "outputs": [],
   "source": [
    "def format_axis(ax):\n",
    "    ax.spines['top'].set_visible(False)\n",
    "    ax.spines['left'].set_visible(False)\n",
    "    ax.spines['bottom'].set_visible(False)\n",
    "    ax.spines['right'].set_visible(False)\n",
    "    # remove ticks\n",
    "    ax.tick_params(\n",
    "        axis='y',          # changes apply to the y-axis\n",
    "        which='both',      # both major and minor ticks are affected\n",
    "        left=False,        # ticks along the left edge are off\n",
    "        right=False,       # ticks along the right edge are off\n",
    "        labelleft=False)   # labels along the left edge are off\n",
    "    ax.tick_params(\n",
    "        axis='x',          # changes apply to the x-axis\n",
    "        which='both',      # both major and minor ticks are affected\n",
    "        bottom=False,      # ticks along the bottom edge are off\n",
    "        top=False,         # ticks along the top edge are off\n",
    "        labelbottom=False) # labels along the bottom edge are off\n",
    "    return"
   ]
  },
  {
   "cell_type": "code",
   "execution_count": 22,
   "metadata": {},
   "outputs": [],
   "source": [
    "def plot_abrs(data,axes,samplerate):\n",
    "    i=0\n",
    "    keys=data.keys()\n",
    "    values=data.values()\n",
    "    for key,value in zip(keys,values):\n",
    "        xlim=[0,20]\n",
    "        #sampling_rate\n",
    "        wave=value[:int(xlim[1]*samplerate/1000)]\n",
    "        ylim=[-200,200]\n",
    "        # Set limits and labels\n",
    "        axes[i].set_facecolor(\"#ffffff00\")\n",
    "        axes[i].set_xlim(xlim[0],xlim[1])\n",
    "        axes[i].set_ylim(ylim[0],ylim[1])\n",
    "        axes[i].set_ylabel(key, rotation=0, ha=\"right\", va=\"center\")\n",
    "        # Plot base line\n",
    "        axes[i].plot(xlim, [0, 0], color=\"k\", alpha=0.3, linestyle=\"--\")\n",
    "        # Plot waveform\n",
    "        time=np.arange(xlim[0],xlim[1],1/(samplerate/1000))\n",
    "        axes[i].plot(time, wave, color=\"k\", clip_on=False,)\n",
    "        # Format spines and ticks\n",
    "        if i == len(keys)-1:\n",
    "            axes[i].spines['top'].set_visible(False)\n",
    "            axes[i].spines['left'].set_visible(False)\n",
    "            axes[i].spines['bottom'].set_visible(False)\n",
    "            axes[i].spines['right'].set_position((\"outward\", 10))\n",
    "            axes[i].tick_params(axis='x', which='both', bottom=False, top=False, labelbottom=False)\n",
    "            axes[i].yaxis.tick_right()\n",
    "            axes[i].set_yticks([ylim[0], 0, ylim[1]])\n",
    "            axes[i].set_yticklabels([str(ylim[0]/1000), \"0 μV\", str(ylim[1]/1000)])\n",
    "        else:\n",
    "            format_axis(axes[i])\n",
    "        i+=1\n",
    "    return"
   ]
  },
  {
   "cell_type": "code",
   "execution_count": 23,
   "metadata": {},
   "outputs": [],
   "source": [
    "def get_abr_data(mat_data,stim_table,samplerate=40000):\n",
    "    active_chan=17\n",
    "    reference_chan=18\n",
    "    ground_chan=19\n",
    "    active_wave=mat_data[f\"WB{str(active_chan)}\"]\n",
    "    active_wave=list(active_wave[i][0] for i in range(len(active_wave)))\n",
    "    reference_wave=mat_data[f\"WB{str(reference_chan)}\"]\n",
    "    reference_wave=list(reference_wave[i][0] for i in range(len(reference_wave)))\n",
    "    ground_wave=mat_data[f\"WB{str(ground_chan)}\"]\n",
    "    ground_wave=list(ground_wave[i][0] for i in range(len(reference_wave)))\n",
    "    #電圧値が非常に小さいため、平均で丸めると丸め誤差が大きそう、そのため厳密に各timestampに対して各波形を取り出し、A-G,R-Gを計算した後足していくこととする\n",
    "    #timestampの取り出し、active,reference,groundの遅れ時間が同一計測方法であれば同一であるため(今後はtriggerchを用意するなどしたい)\n",
    "    ts=mat_data[f\"WB{str(active_chan)}_ts\"][0][0]\n",
    "    timestamp=mat_data[\"EVT01\"]\n",
    "    #samplerateを基準にWBでのtriggerのindexをtimestampに保存\n",
    "    timestamp=list(int((timestamp[i][0]-ts)*samplerate) for i in range(len(timestamp))) #sampling_rateが1000であるため、1000をかけるとmsオーダーとなる\n",
    "    #WBを描画するためmsのサンプリングレートを算出する必要がある\n",
    "    samplerate_in_ms=samplerate//1000\n",
    "    duration=15 #ms\n",
    "    offset=5 #ms\n",
    "    \n",
    "    abr_dic={}\n",
    "    index=0\n",
    "    for timepoint in timestamp:\n",
    "        #配列どうしの加減算を用意にするためにnp.arrayとして保存\n",
    "        each_active=np.array(active_wave[timepoint-offset*samplerate_in_ms:timepoint+duration*samplerate_in_ms])\n",
    "        each_ground=np.array(ground_wave[timepoint-offset*samplerate_in_ms:timepoint+duration*samplerate_in_ms])\n",
    "        each_reference=np.array(reference_wave[timepoint-offset*samplerate_in_ms:timepoint+duration*samplerate_in_ms])\n",
    "        #signal=active-ground base=reference-ground\n",
    "        each_signal=each_active-each_ground\n",
    "        each_base= each_reference-each_ground\n",
    "        each_abr=each_signal-each_base\n",
    "        line=stim_table.iloc[index]\n",
    "        if line[\"state\"]==\"click\":\n",
    "            title=f'{line[\"db\"]}'\n",
    "        elif line[\"state\"]==\"us_burst\":\n",
    "            title=f'{line[\"amp\"]*1000}mV_{line[\"duration\"]*1000}ms_{line[\"pulse_duration\"]*1000000}us_PRF{line[\"PRF\"]}Hz_window{line[\"window\"]}%'\n",
    "        elif line[\"state\"]==\"us_cont\":\n",
    "            title=f'{line[\"amp\"]*1000}mV_{line[\"duration\"]*1000}ms_window{int(line[\"window\"]*1000)}ms'\n",
    "        if title in abr_dic:\n",
    "            abr_dic[title]+=each_abr\n",
    "        else:\n",
    "            abr_dic[title]=each_abr\n",
    "        index+=1\n",
    "        \n",
    "    #filter用変数設定\n",
    "    fp=np.array([300,3000])\n",
    "    fs=np.array([200,5000])\n",
    "    gpass=10\n",
    "    gstop=40\n",
    "    #各電圧値を平均した後μVオーダーに変換\n",
    "    for key in abr_dic:\n",
    "        #平均する前にフィルタをかけて必要な帯域のみを取り出す\n",
    "        abr_dic[key]=bandpass(abr_dic[key],samplerate,fp,fs,gpass,gstop)\n",
    "        abr_dic[key]=abr_dic[key]*1000/350\n",
    "    return abr_dic"
   ]
  },
  {
   "cell_type": "code",
   "execution_count": 24,
   "metadata": {},
   "outputs": [
    {
     "name": "stdout",
     "output_type": "stream",
     "text": [
      "dict_keys(['80.0dB', '70.0dB', '60.0dB', '50.0dB', '40.0dB', '30.0dB', '20.0dB'])\n",
      "512_epoc_0\n"
     ]
    }
   ],
   "source": [
    "#TDT用のABR描画プログラムの読み込み\n",
    "#刺激波形・刺激ラベルの格納\n",
    "filename=\"./TDT/512_epoc_0.csv\"\n",
    "#dataにデシベル:波形のdict形式で格納\n",
    "data =cosnail.read_abrcsv(filename)\n",
    "print(data.keys())\n",
    "#該当ファイルにマッチする刺激ラベルの作成\n",
    "stim_label=[\"c\",\"p\",\"us\",\"usm\",]\n",
    "wave_status=[]\n",
    "filename=tath.Path(filename).body\n",
    "print(filename)"
   ]
  },
  {
   "cell_type": "code",
   "execution_count": 25,
   "metadata": {},
   "outputs": [
    {
     "data": {
      "text/plain": [
       "16014"
      ]
     },
     "execution_count": 25,
     "metadata": {},
     "output_type": "execute_result"
    }
   ],
   "source": [
    "#TDTのABR波形から波形を描画\n",
    "fig, axes = plt.subplots(nrows=len(data.keys()), sharex=True, figsize=[9,6])\n",
    "fig.patch.set_facecolor('white')\n",
    "fig.suptitle(\"ABR recorded by TDT\")\n",
    "fig.supxlabel(\"Time from Stimulation (ms)\")\n",
    "fig.supylabel(\"Stim type\")\n",
    "xlim=[0,20]\n",
    "plot_event(fig, axes, xlim)\n",
    "plot_abrs(data,axes,25000)\n",
    "if not (os.path.exists(\"./plot/\")):\n",
    "    os.mkdir(\"./plot\")\n",
    "fig.savefig(\"ABR_from_TDT.png\") \n",
    "fig.clear()\n",
    "plt.close(fig)\n",
    "del axes  \n",
    "del fig\n",
    "gc.collect()\n",
    "    "
   ]
  },
  {
   "cell_type": "code",
   "execution_count": 70,
   "metadata": {},
   "outputs": [],
   "source": [
    "#plxからmatlabへの変換ができないためpl2を使用する\n",
    "filename=\"./Plexon/click_50dB_512_epoc_isi200ms_0.pl2\"\n",
    "# どんな情報が入っているかを示してくれるファイル\n",
    "# spkinfo ソーティング用のクラスター情報が入っている\n",
    "# evtinfo　計測されたevent情報が入っている\n",
    "# adinfo 実波形データが格納されている\n",
    "spkinfo, evtinfo, adinfo = pl2_info(filename)"
   ]
  },
  {
   "cell_type": "code",
   "execution_count": 71,
   "metadata": {},
   "outputs": [
    {
     "data": {
      "text/plain": [
       "(event_info(channel=1, name='EVT01', n=512),)"
      ]
     },
     "execution_count": 71,
     "metadata": {},
     "output_type": "execute_result"
    }
   ],
   "source": [
    "evtinfo"
   ]
  },
  {
   "cell_type": "code",
   "execution_count": 72,
   "metadata": {},
   "outputs": [
    {
     "data": {
      "text/plain": [
       "(ad_info(channel=1, name='WB01', n=6612000),\n",
       " ad_info(channel=2, name='WB02', n=6612000),\n",
       " ad_info(channel=3, name='WB03', n=6612000),\n",
       " ad_info(channel=17, name='WB17', n=6612000),\n",
       " ad_info(channel=1, name='SPKC01', n=6611005),\n",
       " ad_info(channel=2, name='SPKC02', n=6611005),\n",
       " ad_info(channel=3, name='SPKC03', n=6611005),\n",
       " ad_info(channel=17, name='SPKC17', n=6611005),\n",
       " ad_info(channel=1, name='FP01', n=165275),\n",
       " ad_info(channel=2, name='FP02', n=165275),\n",
       " ad_info(channel=3, name='FP03', n=165275),\n",
       " ad_info(channel=17, name='FP17', n=165275))"
      ]
     },
     "execution_count": 72,
     "metadata": {},
     "output_type": "execute_result"
    }
   ],
   "source": [
    "adinfo"
   ]
  },
  {
   "cell_type": "code",
   "execution_count": 73,
   "metadata": {},
   "outputs": [],
   "source": [
    "#evtは名前で取り出す必要がある\n",
    "evt=pl2_events(filename,evtinfo[0].name)\n",
    "timestamps=np.array(list(evt.timestamps))"
   ]
  },
  {
   "cell_type": "code",
   "execution_count": 74,
   "metadata": {},
   "outputs": [],
   "source": [
    "# ad()実波形の呼び出し情報はpl2_info参照\n",
    "# SPKC1の読み込み\n",
    "ad = pl2_ad(filename, \"SPKC17\")\n",
    "#ad.ad tuple型で保存された波形を出力\n",
    "#ad.timestamp 最初のtimestampが保存されているのでこれをずらす\n",
    "wave=np.array(ad.ad)"
   ]
  },
  {
   "cell_type": "code",
   "execution_count": 75,
   "metadata": {},
   "outputs": [],
   "source": [
    "#波形の取得時間を設定\n",
    "samplerate=ad.adfrequency\n",
    "samplerate_in_ms=samplerate//1000\n",
    "duration=20 #ms\n",
    "offset=0 #ms"
   ]
  },
  {
   "cell_type": "code",
   "execution_count": 76,
   "metadata": {},
   "outputs": [
    {
     "data": {
      "text/plain": [
       "(0.013025,)"
      ]
     },
     "execution_count": 76,
     "metadata": {},
     "output_type": "execute_result"
    }
   ],
   "source": [
    "ad.timestamps"
   ]
  },
  {
   "cell_type": "code",
   "execution_count": 77,
   "metadata": {},
   "outputs": [],
   "source": [
    "#ad波形の遅れを補正\n",
    "timestamps=timestamps-ad.timestamps[0]"
   ]
  },
  {
   "cell_type": "code",
   "execution_count": 78,
   "metadata": {},
   "outputs": [],
   "source": [
    "fixed_timestamps=np.array(list(map(int,timestamps*samplerate)))"
   ]
  },
  {
   "cell_type": "code",
   "execution_count": 50,
   "metadata": {},
   "outputs": [],
   "source": [
    "ad = pl2_ad(filename, \"WB17\")\n",
    "wb_wave=np.array(ad.ad)"
   ]
  },
  {
   "cell_type": "code",
   "execution_count": 54,
   "metadata": {},
   "outputs": [
    {
     "name": "stdout",
     "output_type": "stream",
     "text": [
      "0.0001129150390625\n"
     ]
    },
    {
     "data": {
      "image/png": "[encoded data removed]",
      "text/plain": [
       "<Figure size 432x288 with 1 Axes>"
      ]
     },
     "metadata": {
      "needs_background": "light"
     },
     "output_type": "display_data"
    }
   ],
   "source": [
    "#波形の描画\n",
    "#time=np.arange(-offset,duration,1/samplerate_in_ms)\n",
    "fig=plt.figure()\n",
    "ax=fig.add_subplot(111)\n",
    "ax.plot(wave)\n",
    "print(np.max(np.abs(wave)))\n",
    "# ax.set_xlabel(\"time[ms]\")\n",
    "ax.set_ylabel(\"voltage[V]\")\n",
    "#ax.set_ylim(-0.0125,0.0125)\n",
    "plt.savefig(\"50dB_click_from_ch17.png\")\n",
    "#plt.show()\n",
    "#clickの立ち上がり->10サンプル=時間長:10/40000=2.5*10^(-4)s=0.25ms=250us程度の誤差\n",
    "#2サンプルだとさらに50μSくらいの誤差\n",
    "#サンプリングレート25000だと1サンプルの時間幅は40μSなので1サンプルずれているかどうかくらいには収まりそう"
   ]
  },
  {
   "cell_type": "code",
   "execution_count": 79,
   "metadata": {},
   "outputs": [
    {
     "name": "stdout",
     "output_type": "stream",
     "text": [
      "512\n"
     ]
    }
   ],
   "source": [
    "#timestampの情報を元に波形の加算平均を行う。\n",
    "total_wave=np.zeros(int((duration-offset)*samplerate_in_ms))\n",
    "i=0\n",
    "for timepoint in timestamps:\n",
    "    each_wave=np.array(wave[int(timepoint-offset*samplerate_in_ms):int(timepoint+duration*samplerate_in_ms)])\n",
    "    if len(each_wave)==len(total_wave):\n",
    "        total_wave+=each_wave\n",
    "        i+=1\n",
    "total_wave/=i\n",
    "print(i)\n",
    "total_wave*=1000000"
   ]
  },
  {
   "cell_type": "code",
   "execution_count": 80,
   "metadata": {},
   "outputs": [
    {
     "name": "stdout",
     "output_type": "stream",
     "text": [
      "0.2795457839965813\n"
     ]
    },
    {
     "data": {
      "image/png": "[encoded data removed]",
      "text/plain": [
       "<Figure size 432x288 with 1 Axes>"
      ]
     },
     "metadata": {
      "needs_background": "light"
     },
     "output_type": "display_data"
    }
   ],
   "source": [
    "time=np.arange(-offset,duration,1/samplerate_in_ms)\n",
    "fig=plt.figure()\n",
    "ax=fig.add_subplot(111)\n",
    "ax.plot(time,total_wave)\n",
    "ax.set_xlabel(\"time from stimulation[ms]\")\n",
    "ax.set_ylabel(\"voltage[uV]\")\n",
    "#ax.set_ylim(-0.0125,0.0125)\n",
    "plt.savefig(\"50dB_click_pns_512_ave.png\")\n",
    "#plt.show()\n",
    "print(np.max(np.abs(total_wave)))"
   ]
  },
  {
   "cell_type": "markdown",
   "metadata": {},
   "source": [
    "1000回平均した時のノイズレベルは120μV\n",
    "512回平均した時のノイズレベルは270uV\n",
    "だった→Plexonで計測するときには1000回ほど加算平均する必要がありそう？"
   ]
  },
  {
   "cell_type": "code",
   "execution_count": 55,
   "metadata": {},
   "outputs": [],
   "source": [
    "#timestampsの結果とSPKC17の立ち上がり電圧タイミングを比較する\n",
    "#閾値は0.1μsとする\n",
    "timestamps_from_SPKC=[]\n",
    "i=0\n",
    "while i<len(wave):\n",
    "    if wave[i]>=1.0*10**-5:\n",
    "        timestamps_from_SPKC.append(i/samplerate)\n",
    "        #次のクリック音が入りそうな区間まで飛ばす\n",
    "        i+=int(0.06*samplerate)\n",
    "    else:\n",
    "        i+=1"
   ]
  },
  {
   "cell_type": "code",
   "execution_count": 56,
   "metadata": {},
   "outputs": [],
   "source": [
    "timestamps_from_SPKC=np.array(timestamps_from_SPKC)"
   ]
  },
  {
   "cell_type": "code",
   "execution_count": 57,
   "metadata": {},
   "outputs": [
    {
     "data": {
      "text/plain": [
       "array([ 31.718125,  31.97835 ,  32.245   ,  32.5107  ,  32.7605  ,\n",
       "        33.021475,  33.291925,  33.563425,  33.831325,  34.084725,\n",
       "        34.3509  ,  34.607775,  34.860925,  35.127375,  35.3838  ,\n",
       "        35.6509  ,  35.908275,  36.16115 ,  36.41275 ,  36.660075,\n",
       "        36.89775 ,  37.15285 ,  37.400325,  37.660225,  37.944475,\n",
       "        38.2201  ,  38.461   ,  38.719225,  38.960525,  39.2185  ,\n",
       "        39.4782  ,  39.7411  ,  40.0107  ,  40.276125,  40.525325,\n",
       "        40.79135 ,  41.07285 ,  41.340025,  41.622275,  41.90105 ,\n",
       "        42.14305 ,  42.397975,  42.671475,  42.9417  ,  43.19375 ,\n",
       "        43.467175,  43.7283  ,  44.038825,  44.310175,  44.5762  ,\n",
       "        44.8439  ,  45.119075,  45.4075  ,  45.6743  ,  45.930225,\n",
       "        46.207625,  46.482375,  46.730175,  47.0103  ,  47.271825,\n",
       "        47.5451  ,  47.835975,  48.112375,  48.38125 ,  48.636425,\n",
       "        48.886625,  49.15215 ,  49.422475,  49.710375,  49.9713  ,\n",
       "        50.228475,  50.487675,  50.755575,  51.0203  ,  51.268575,\n",
       "        51.53945 ,  51.80065 ,  52.054425,  52.31445 ,  52.5805  ,\n",
       "        52.862375,  53.122725,  53.429525,  53.686425,  53.9446  ,\n",
       "        54.21065 ,  54.476575,  54.73185 ,  54.989125,  55.246675,\n",
       "        55.50045 ,  55.750625,  56.019825,  56.263175,  56.54635 ,\n",
       "        56.80375 ,  57.069775,  57.35555 ,  57.6054  ,  57.859725,\n",
       "        58.119275,  58.3847  ,  58.63255 ,  58.902375,  59.1845  ,\n",
       "        59.451975,  59.7179  ,  59.9683  ,  60.234475,  60.49355 ,\n",
       "        60.7707  ,  61.0276  ,  61.301525,  61.566775,  61.8151  ,\n",
       "        62.085125,  62.36685 ,  62.634725,  62.920525,  63.173775,\n",
       "        63.4433  ,  63.710675,  63.979575,  64.28285 ,  64.541075,\n",
       "        64.825825,  65.1041  ,  65.377075,  65.643025,  65.907925,\n",
       "        66.16685 ,  66.42305 ,  66.70315 ,  66.9559  ,  67.21275 ,\n",
       "        67.483125,  67.733   ,  68.007925,  68.297325,  68.575175,\n",
       "        68.843775,  69.148   ,  69.405125,  69.68165 ,  69.9569  ,\n",
       "        70.2141  ,  70.467125,  70.723775,  70.980975,  71.236875,\n",
       "        71.499225,  71.782325,  72.051375,  72.311925,  72.62485 ,\n",
       "        72.903175,  73.1629  ,  73.418   ,  73.674275,  73.944325,\n",
       "        74.216225,  74.4787  ,  74.7591  ,  75.0069  ,  75.262075,\n",
       "        75.528425,  75.786675,  76.036325,  76.29705 ,  76.56245 ,\n",
       "        76.839375,  77.095625,  77.375175,  77.6383  ,  77.905175,\n",
       "        78.176575,  78.4358  ,  78.69405 ,  78.95425 ,  79.210325,\n",
       "        79.47355 ,  79.74555 ,  80.021875,  80.278575,  80.544575,\n",
       "        80.78475 ,  81.077375,  81.3584  ,  81.62585 ,  81.8924  ,\n",
       "        82.169175,  82.42195 ,  82.68745 ,  82.942025,  83.204625,\n",
       "        83.46065 ,  83.726575,  83.983275,  84.25405 ,  84.509625,\n",
       "        84.7757  ,  85.03645 ,  85.309675,  85.566325,  85.842575,\n",
       "        86.109925,  86.3657  ,  86.6428  ,  86.908675,  87.146825,\n",
       "        87.4035  ,  87.654075,  87.927925,  88.194575,  88.46055 ,\n",
       "        88.718775,  88.98175 ,  89.27335 ,  89.54245 ,  89.817275,\n",
       "        90.0749  ,  90.352   ,  90.61485 ,  90.87485 ,  91.139575,\n",
       "        91.40095 ,  91.674375,  91.94495 ,  92.215875,  92.474075,\n",
       "        92.739825,  92.992675,  93.265975,  93.533025,  93.8041  ,\n",
       "        94.06275 ,  94.34935 ,  94.640025,  94.897775,  95.172875,\n",
       "        95.46235 ,  95.736075,  96.016025,  96.2975  ,  96.5562  ,\n",
       "        96.830925,  97.09155 ,  97.348525,  97.6106  ,  97.8723  ,\n",
       "        98.138275,  98.405325,  98.670775,  98.9282  ,  99.1977  ,\n",
       "        99.4727  ,  99.73835 ,  99.98775 , 100.244325, 100.52105 ,\n",
       "       100.7967  , 101.065175, 101.33015 , 101.606275, 101.854475,\n",
       "       102.110325, 102.375225, 102.621125, 102.88035 , 103.1371  ,\n",
       "       103.41345 , 103.671375, 103.9253  , 104.186475, 104.456325,\n",
       "       104.738575, 104.995475, 105.2523  , 105.53835 , 105.786275,\n",
       "       106.0634  , 106.3286  , 106.6105  , 106.88765 , 107.151825,\n",
       "       107.423625, 107.6853  , 107.96065 , 108.218475, 108.49455 ,\n",
       "       108.7618  , 109.02215 , 109.294525, 109.5823  , 109.859175,\n",
       "       110.105025, 110.367475, 110.63955 , 110.890625, 111.17245 ,\n",
       "       111.428175, 111.68065 , 111.959725, 112.213775, 112.4925  ,\n",
       "       112.766   , 113.03595 , 113.296475, 113.566775, 113.824675,\n",
       "       114.0817  , 114.354975, 114.618925, 114.872875, 115.13155 ,\n",
       "       115.381775, 115.64165 , 115.89875 , 116.156   , 116.42185 ,\n",
       "       116.68195 , 116.943825, 117.20785 , 117.46095 , 117.713625,\n",
       "       117.973825, 118.2399  , 118.48765 , 118.72705 , 118.9823  ,\n",
       "       119.26405 , 119.5283  , 119.807   , 120.071   , 120.321   ,\n",
       "       120.605   , 120.870125, 121.13705 , 121.375625, 121.669975,\n",
       "       121.94695 , 122.2032  , 122.46315 , 122.70075 , 122.958225,\n",
       "       123.2222  , 123.479925, 123.7601  , 124.02145 , 124.279225,\n",
       "       124.5362  , 124.801825, 125.0689  , 125.329275, 125.59525 ,\n",
       "       125.87545 , 126.13565 , 126.405075, 126.68105 , 126.942275,\n",
       "       127.1889  , 127.4652  , 127.728275, 127.9843  , 128.26145 ,\n",
       "       128.52515 , 128.78655 , 129.054575, 129.330575, 129.5912  ,\n",
       "       129.853525, 130.118825, 130.3764  , 130.635975, 130.893725,\n",
       "       131.159475, 131.425125, 131.693275, 131.968175, 132.23545 ,\n",
       "       132.50235 , 132.7491  , 133.019525, 133.276075, 133.5353  ,\n",
       "       133.802575, 134.065275, 134.3255  , 134.592775, 134.848425,\n",
       "       135.08705 , 135.342725, 135.611175, 135.869075, 136.12825 ,\n",
       "       136.37475 , 136.65165 , 136.9178  , 137.1848  , 137.454275,\n",
       "       137.726175, 137.980225, 138.25055 , 138.51425 , 138.7913  ,\n",
       "       139.0577  , 139.3237  , 139.590675, 139.846575, 140.1068  ,\n",
       "       140.34695 , 140.61195 , 140.871375, 141.132325, 141.3889  ,\n",
       "       141.649875, 141.924275, 142.192875, 142.4656  , 142.722375,\n",
       "       142.989825, 143.255725, 143.52265 , 143.77875 , 144.036125,\n",
       "       144.380375, 144.62765 , 144.8887  , 145.1449  , 145.431775,\n",
       "       145.687975, 145.95495 , 146.222075, 146.487025, 146.74815 ,\n",
       "       147.004925, 147.27065 , 147.53715 , 147.814425, 148.072075,\n",
       "       148.336725, 148.603925, 148.871125, 149.13685 , 149.403925,\n",
       "       149.680375, 149.946975, 150.2342  , 150.505225, 150.79115 ,\n",
       "       151.05305 , 151.310025, 151.56915 , 151.85215 , 152.103125,\n",
       "       152.34675 , 152.62925 , 152.905375, 153.171   , 153.429275,\n",
       "       153.691875, 153.958775, 154.23    , 154.50655 , 154.7672  ,\n",
       "       155.0318  , 155.2963  , 155.565225, 155.842925, 156.1242  ,\n",
       "       156.417425, 156.67615 , 156.93705 , 157.195725, 157.463675,\n",
       "       157.7282  , 157.995425, 158.2559  , 158.519525, 158.7834  ,\n",
       "       159.060375, 159.31935 , 159.573625, 159.86025 , 160.126275,\n",
       "       160.3763  , 160.6423  , 160.89    , 161.166075, 161.4395  ,\n",
       "       161.7256  , 161.9757  , 162.2313  , 162.499275, 162.756475,\n",
       "       163.024625, 163.285775, 163.53885 , 163.796875, 164.0616  ,\n",
       "       164.3165  , 164.57665 , 164.850275, 165.09765 , 165.360075,\n",
       "       165.623725, 165.890825, 166.171925, 166.43925 , 166.700675,\n",
       "       166.97305 , 167.22115 , 167.491075, 167.7534  , 168.036725,\n",
       "       168.313725, 168.57085 , 168.8369  , 169.105775, 169.35985 ,\n",
       "       169.6498  , 169.91255 , 170.189075, 170.455025, 170.722   ,\n",
       "       171.00165 , 171.26745 , 171.52575 , 171.7887  , 172.0481  ,\n",
       "       172.296825, 172.551175, 172.832   , 173.094975, 173.371025,\n",
       "       173.61875 , 173.877825, 174.1445  , 174.420975, 174.667925,\n",
       "       174.918025, 175.190875, 175.464775, 175.72435 , 175.995   ,\n",
       "       176.2572  , 176.516775, 176.755325, 177.060025, 177.317175,\n",
       "       177.584275, 177.860125, 178.127   , 178.39315 , 178.6808  ,\n",
       "       178.947025, 179.225   , 179.489275, 179.7526  , 179.987325,\n",
       "       180.254775, 180.499775, 180.776025, 181.04225 , 181.309275,\n",
       "       181.575325, 181.86235 , 182.1293  , 182.401725, 182.6567  ,\n",
       "       182.925175, 183.1785  , 183.441325, 183.7209  , 183.981275,\n",
       "       184.234875, 184.501175, 184.7585  , 185.034375, 185.313125,\n",
       "       185.573275, 185.8507  , 186.1244  , 186.390375, 186.65735 ,\n",
       "       186.8946  , 187.15165 , 187.4113  , 187.6634  , 187.93045 ,\n",
       "       188.1994  , 188.465825, 188.7265  , 188.9781  , 189.239875,\n",
       "       189.502325, 189.771575, 190.026675, 190.2875  , 190.552525,\n",
       "       190.82105 , 191.076425, 191.351275, 191.599125, 191.8468  ,\n",
       "       192.108525, 192.388525, 192.652425, 192.91085 , 193.1819  ,\n",
       "       193.45465 , 193.7256  , 193.987725, 194.251175, 194.518975,\n",
       "       194.77075 , 195.04775 , 195.317625, 195.5716  , 195.822375,\n",
       "       196.08675 , 196.338875, 196.61245 , 196.86355 , 197.126275,\n",
       "       197.37005 , 197.637075, 197.882725, 198.145525, 198.394925,\n",
       "       198.6545  , 198.902625, 199.159625, 199.418825, 199.65405 ,\n",
       "       199.920825, 200.178925, 200.460875, 200.727825, 200.983275,\n",
       "       201.248375, 201.50845 , 201.7638  , 202.0353  , 202.305625,\n",
       "       202.561775, 202.828425, 203.083825, 203.339775, 203.600375,\n",
       "       203.867925, 204.134   , 204.408225, 204.686275, 204.940925,\n",
       "       205.207   , 205.4621  , 205.7241  , 205.96195 , 206.226225,\n",
       "       206.496375, 206.7608  , 207.08565 , 207.353225, 207.62335 ,\n",
       "       207.8991  , 208.1533  , 208.416   , 208.669175, 208.9223  ,\n",
       "       209.200275, 209.476425, 209.762   , 210.0225  , 210.2983  ,\n",
       "       210.5676  , 210.841   , 211.09935 , 211.365475, 211.621275,\n",
       "       211.860775, 212.12465 , 212.380475, 212.64135 , 212.897475,\n",
       "       213.17395 , 213.44025 , 213.698825, 213.957375, 214.223125,\n",
       "       214.4814  , 214.74175 , 215.0053  , 215.3063  , 215.556425,\n",
       "       215.8134  , 216.0894  , 216.33815 , 216.5865  , 216.8566  ,\n",
       "       217.13335 , 217.386475, 217.66255 , 217.9198  , 218.1857  ,\n",
       "       218.4629  , 218.7199  , 218.985525, 219.255275, 219.511725,\n",
       "       219.768525, 220.04785 , 220.2831  , 220.538525, 220.804825,\n",
       "       221.0528  , 221.317825, 221.608775, 221.881825, 222.1448  ,\n",
       "       222.40845 , 222.67775 , 222.95915 , 223.2125  , 223.4572  ,\n",
       "       223.731075, 223.98805 , 224.250675, 224.52    , 224.7806  ,\n",
       "       225.043225, 225.297875, 225.550025, 225.8267  , 226.082875,\n",
       "       226.3211  , 226.57965 , 226.86125 , 227.121125, 227.39475 ,\n",
       "       227.646925, 227.89355 , 228.15225 , 228.415575, 228.675975,\n",
       "       228.94155 , 229.198775, 229.46875 , 229.742225, 230.017925,\n",
       "       230.276425, 230.53495 , 230.781675, 231.040825, 231.2801  ,\n",
       "       231.5458  , 231.806675, 232.058225, 232.36005 , 232.62695 ,\n",
       "       232.89345 , 233.15075 , 233.41395 , 233.69945 , 233.966725,\n",
       "       234.23015 , 234.51065 , 234.775925, 235.0444  , 235.306025,\n",
       "       235.563725, 235.8404  , 236.08935 , 236.365325, 236.631875,\n",
       "       236.89575 , 237.1555  , 237.421425, 237.68195 , 237.9451  ,\n",
       "       238.205525, 238.470975, 238.740775, 239.01535 , 239.2885  ,\n",
       "       239.5554  , 239.820875, 240.072275, 240.3384  , 240.623125,\n",
       "       240.881325, 241.1483  , 241.4115  , 241.6767  , 241.9286  ,\n",
       "       242.186625, 242.45365 , 242.73735 , 243.0035  , 243.27055 ,\n",
       "       243.52705 , 243.797525, 244.064075, 244.329675, 244.5761  ,\n",
       "       244.8529  , 245.12305 , 245.4025  , 245.66455 , 245.928825,\n",
       "       246.193725, 246.4526  , 246.709575, 246.98785 , 247.255225,\n",
       "       247.518625, 247.775375, 248.042575, 248.29275 , 248.5509  ,\n",
       "       248.820775, 249.08355 , 249.360725, 249.62665 , 249.8946  ,\n",
       "       250.17055 , 250.431775, 250.703475, 250.961125, 251.207825,\n",
       "       251.46885 , 251.75325 , 252.021775, 252.288525, 252.564925,\n",
       "       252.82535 , 253.089425, 253.3838  , 253.64925 , 253.91595 ,\n",
       "       254.17315 , 254.462425, 254.72695 , 254.99225 , 255.2497  ,\n",
       "       255.516   , 255.7732  , 256.033   , 256.27475 , 256.519425,\n",
       "       256.777075, 257.0419  , 257.29925 , 257.573775, 257.850925,\n",
       "       258.1163  , 258.387775, 258.686875, 258.947725, 259.200925,\n",
       "       259.4512  , 259.71035 , 259.974775, 260.24995 , 260.510775,\n",
       "       260.783725, 261.045175, 261.314575, 261.573925, 261.833775,\n",
       "       262.10095 , 262.382175, 262.63675 , 262.918325, 263.176275,\n",
       "       263.4551  , 263.73    , 263.998625, 264.281275, 264.54605 ,\n",
       "       264.8094  , 265.081075, 265.333125, 265.598375, 265.856275,\n",
       "       266.131175, 266.38875 , 266.665575, 266.93305 , 267.20435 ,\n",
       "       267.448375, 267.71975 , 267.969975, 268.2272  , 268.494125,\n",
       "       268.773225, 269.0284  , 269.288775, 269.551225, 269.820375,\n",
       "       270.079925, 270.36745 , 270.6279  , 270.9038  , 271.163625,\n",
       "       271.43665 , 271.6891  , 271.96235 , 272.2298  , 272.486125,\n",
       "       272.742675, 273.02185 , 273.28555 , 273.549025, 273.7902  ,\n",
       "       274.05105 , 274.316725, 274.5924  , 274.8497  , 275.127875,\n",
       "       275.38345 , 275.6435  , 275.8987  , 276.1681  , 276.442025,\n",
       "       276.707675, 276.975875, 277.244825, 277.5169  , 277.766525,\n",
       "       278.02165 , 278.28065 , 278.5378  , 278.808275, 279.07795 ,\n",
       "       279.3598  , 279.632825, 279.890825, 280.14775 , 280.42655 ,\n",
       "       280.70085 , 280.95685 , 281.2241  , 281.484075, 281.737125,\n",
       "       281.99585 , 282.252975, 282.515925, 282.7862  , 283.0559  ,\n",
       "       283.33025 , 283.610075, 283.88265 , 284.13245 , 284.4061  ,\n",
       "       284.661925, 284.89675 , 285.18865 , 285.4253  , 285.704975,\n",
       "       285.98905 , 286.254225, 286.489575, 286.753925, 287.018825,\n",
       "       287.28885 , 287.5447  , 287.8076  , 288.0792  , 288.329   ,\n",
       "       288.608325, 288.8812  , 289.15005 , 289.401075, 289.6772  ,\n",
       "       289.92685 , 290.18535 , 290.452075, 290.71725 , 290.996125,\n",
       "       291.2568  , 291.513125, 291.77375 , 292.08035 , 292.33315 ,\n",
       "       292.596225, 292.8693  , 293.12575 , 293.3922  , 293.672325,\n",
       "       293.935025, 294.190775, 294.4379  , 294.69415 , 294.956825,\n",
       "       295.227225, 295.4896  , 295.750125, 296.0108  , 296.268275])"
      ]
     },
     "execution_count": 57,
     "metadata": {},
     "output_type": "execute_result"
    }
   ],
   "source": [
    "timestamps"
   ]
  },
  {
   "cell_type": "code",
   "execution_count": 58,
   "metadata": {},
   "outputs": [
    {
     "data": {
      "text/plain": [
       "array([ 31.71815 ,  31.978375,  32.245025,  32.510725,  32.760525,\n",
       "        33.0215  ,  33.29195 ,  33.56345 ,  33.83135 ,  34.084775,\n",
       "        34.350925,  34.607825,  34.86095 ,  35.1274  ,  35.383825,\n",
       "        35.650925,  35.9083  ,  36.161175,  36.412775,  36.6601  ,\n",
       "        36.897775,  37.152875,  37.400375,  37.66025 ,  37.9445  ,\n",
       "        38.220125,  38.461025,  38.71925 ,  38.96055 ,  39.218525,\n",
       "        39.478225,  39.741125,  40.010725,  40.276175,  40.52535 ,\n",
       "        40.791375,  41.072875,  41.34005 ,  41.6223  ,  41.901075,\n",
       "        42.143075,  42.398   ,  42.6715  ,  42.941725,  43.193775,\n",
       "        43.4672  ,  43.728325,  44.03885 ,  44.3102  ,  44.576225,\n",
       "        44.843925,  45.1191  ,  45.407525,  45.674325,  45.930275,\n",
       "        46.20765 ,  46.4824  ,  46.730225,  47.010325,  47.27185 ,\n",
       "        47.545125,  47.836   ,  48.1124  ,  48.381275,  48.63645 ,\n",
       "        48.88665 ,  49.152175,  49.4225  ,  49.7104  ,  49.971325,\n",
       "        50.2285  ,  50.4877  ,  50.7556  ,  51.020325,  51.2686  ,\n",
       "        51.5395  ,  51.800675,  52.05445 ,  52.3145  ,  52.580525,\n",
       "        52.8624  ,  53.12275 ,  53.42955 ,  53.68645 ,  53.944625,\n",
       "        54.210675,  54.4766  ,  54.731875,  54.98915 ,  55.2467  ,\n",
       "        55.500475,  55.75065 ,  56.01985 ,  56.2632  ,  56.5464  ,\n",
       "        56.803775,  57.0698  ,  57.355575,  57.60545 ,  57.85975 ,\n",
       "        58.1193  ,  58.384725,  58.632575,  58.9024  ,  59.184525,\n",
       "        59.452   ,  59.717925,  59.968325,  60.2345  ,  60.493575,\n",
       "        60.770725,  61.027625,  61.301575,  61.5668  ,  61.815125,\n",
       "        62.08515 ,  62.366875,  62.634775,  62.92055 ,  63.1738  ,\n",
       "        63.443325,  63.710725,  63.979625,  64.282875,  64.5411  ,\n",
       "        64.825875,  65.104125,  65.3771  ,  65.64305 ,  65.90795 ,\n",
       "        66.166875,  66.423075,  66.703175,  66.955925,  67.212775,\n",
       "        67.48315 ,  67.733025,  68.007975,  68.29735 ,  68.5752  ,\n",
       "        68.8438  ,  69.148025,  69.40515 ,  69.681675,  69.956925,\n",
       "        70.214125,  70.46715 ,  70.7238  ,  70.981   ,  71.2369  ,\n",
       "        71.49925 ,  71.78235 ,  72.0514  ,  72.31195 ,  72.624875,\n",
       "        72.9032  ,  73.162925,  73.418025,  73.6743  ,  73.94435 ,\n",
       "        74.21625 ,  74.47875 ,  74.759125,  75.006925,  75.2621  ,\n",
       "        75.52845 ,  75.7867  ,  76.03635 ,  76.2971  ,  76.562475,\n",
       "        76.8394  ,  77.09565 ,  77.3752  ,  77.638325,  77.9052  ,\n",
       "        78.1766  ,  78.435825,  78.694075,  78.954275,  79.21035 ,\n",
       "        79.473575,  79.745575,  80.0219  ,  80.2786  ,  80.5446  ,\n",
       "        80.784775,  81.0774  ,  81.358425,  81.625875,  81.892425,\n",
       "        82.169225,  82.421975,  82.687475,  82.94205 ,  83.20465 ,\n",
       "        83.460675,  83.7266  ,  83.9833  ,  84.254075,  84.50965 ,\n",
       "        84.775725,  85.0365  ,  85.3097  ,  85.56635 ,  85.842625,\n",
       "        86.10995 ,  86.365725,  86.642825,  86.9087  ,  87.14685 ,\n",
       "        87.403525,  87.6541  ,  87.92795 ,  88.1946  ,  88.460575,\n",
       "        88.7188  ,  88.981775,  89.273375,  89.542475,  89.8173  ,\n",
       "        90.07495 ,  90.352025,  90.614875,  90.874875,  91.1396  ,\n",
       "        91.400975,  91.6744  ,  91.944975,  92.2159  ,  92.4741  ,\n",
       "        92.73985 ,  92.9927  ,  93.266   ,  93.53305 ,  93.80415 ,\n",
       "        94.0628  ,  94.349375,  94.64005 ,  94.8978  ,  95.1729  ,\n",
       "        95.462375,  95.736125,  96.01605 ,  96.297525,  96.55625 ,\n",
       "        96.83095 ,  97.091575,  97.34855 ,  97.610625,  97.87235 ,\n",
       "        98.1383  ,  98.40535 ,  98.670825,  98.928225,  99.197725,\n",
       "        99.472725,  99.7384  ,  99.987775, 100.24435 , 100.521075,\n",
       "       100.796725, 101.0652  , 101.330175, 101.6063  , 101.8545  ,\n",
       "       102.11035 , 102.37525 , 102.62115 , 102.880375, 103.137125,\n",
       "       103.413475, 103.6714  , 103.925325, 104.1865  , 104.45635 ,\n",
       "       104.7386  , 104.9955  , 105.252325, 105.538375, 105.7863  ,\n",
       "       106.063425, 106.328625, 106.610525, 106.8877  , 107.15185 ,\n",
       "       107.42365 , 107.685325, 107.960675, 108.2185  , 108.494575,\n",
       "       108.761825, 109.022175, 109.29455 , 109.582325, 109.8592  ,\n",
       "       110.10505 , 110.3675  , 110.639575, 110.89065 , 111.172475,\n",
       "       111.4282  , 111.680675, 111.95975 , 112.2138  , 112.492525,\n",
       "       112.766025, 113.035975, 113.2965  , 113.5668  , 113.8247  ,\n",
       "       114.081725, 114.355   , 114.61895 , 114.872925, 115.131575,\n",
       "       115.3818  , 115.641675, 115.898775, 116.156025, 116.421875,\n",
       "       116.682   , 116.94385 , 117.207875, 117.460975, 117.713675,\n",
       "       117.97385 , 118.239925, 118.487675, 118.727075, 118.982325,\n",
       "       119.264075, 119.528325, 119.807025, 120.071025, 120.321025,\n",
       "       120.605025, 120.87015 , 121.137075, 121.375675, 121.67    ,\n",
       "       121.946975, 122.203225, 122.463175, 122.700775, 122.95825 ,\n",
       "       123.22225 , 123.47995 , 123.760125, 124.021475, 124.27925 ,\n",
       "       124.536225, 124.80185 , 125.068925, 125.3293  , 125.595275,\n",
       "       125.875475, 126.135675, 126.4051  , 126.681075, 126.9423  ,\n",
       "       127.188925, 127.465225, 127.7283  , 127.984325, 128.2615  ,\n",
       "       128.525175, 128.7866  , 129.0546  , 129.3306  , 129.591225,\n",
       "       129.85355 , 130.11885 , 130.376425, 130.636025, 130.893775,\n",
       "       131.1595  , 131.42515 , 131.6933  , 131.9682  , 132.235475,\n",
       "       132.502375, 132.749125, 133.01955 , 133.2761  , 133.53535 ,\n",
       "       133.8026  , 134.0653  , 134.325525, 134.5928  , 134.84845 ,\n",
       "       135.087075, 135.342775, 135.6112  , 135.8691  , 136.1283  ,\n",
       "       136.374775, 136.651675, 136.917825, 137.184825, 137.4543  ,\n",
       "       137.7262  , 137.98025 , 138.250575, 138.514275, 138.791325,\n",
       "       139.057725, 139.32375 , 139.5907  , 139.8466  , 140.106825,\n",
       "       140.346975, 140.611975, 140.8714  , 141.13235 , 141.388925,\n",
       "       141.6499  , 141.9243  , 142.1929  , 142.46565 , 142.7224  ,\n",
       "       142.98985 , 143.25575 , 143.522675, 143.778775, 144.03615 ,\n",
       "       144.3804  , 144.627675, 144.888725, 145.144925, 145.4318  ,\n",
       "       145.688   , 145.955   , 146.2221  , 146.48705 , 146.748175,\n",
       "       147.00495 , 147.270675, 147.537175, 147.81445 , 148.072125,\n",
       "       148.33675 , 148.60395 , 148.87115 , 149.136875, 149.40395 ,\n",
       "       149.6804  , 149.947   , 150.234225, 150.50525 , 150.7912  ,\n",
       "       151.053075, 151.31005 , 151.569175, 151.852175, 152.10315 ,\n",
       "       152.346775, 152.629275, 152.9054  , 153.171025, 153.429325,\n",
       "       153.6919  , 153.9588  , 154.230025, 154.506575, 154.767225,\n",
       "       155.031825, 155.296325, 155.56525 , 155.84295 , 156.124225,\n",
       "       156.41745 , 156.676175, 156.937075, 157.19575 , 157.463725,\n",
       "       157.728225, 157.99545 , 158.255925, 158.51955 , 158.783425,\n",
       "       159.0604  , 159.3194  , 159.57365 , 159.860275, 160.1263  ,\n",
       "       160.376325, 160.642325, 160.890025, 161.1661  , 161.439525,\n",
       "       161.725625, 161.975725, 162.231325, 162.499325, 162.7565  ,\n",
       "       163.02465 , 163.2858  , 163.538875, 163.7969  , 164.061625,\n",
       "       164.31655 , 164.576675, 164.8503  , 165.097675, 165.3601  ,\n",
       "       165.62375 , 165.89085 , 166.17195 , 166.439275, 166.7007  ,\n",
       "       166.973075, 167.221175, 167.4911  , 167.753425, 168.036775,\n",
       "       168.31375 , 168.570875, 168.836925, 169.1058  , 169.359875,\n",
       "       169.64985 , 169.912575, 170.189125, 170.45505 , 170.722025,\n",
       "       171.0017  , 171.267475, 171.5258  , 171.788725, 172.048125,\n",
       "       172.29685 , 172.5512  , 172.832025, 173.095   , 173.37105 ,\n",
       "       173.618775, 173.87785 , 174.144525, 174.421   , 174.66795 ,\n",
       "       174.918075, 175.1909  , 175.4648  , 175.724375, 175.995025,\n",
       "       176.257225, 176.5168  , 176.75535 , 177.06005 , 177.3172  ,\n",
       "       177.5843  , 177.86015 , 178.12705 , 178.393175, 178.680825,\n",
       "       178.94705 , 179.225025, 179.4893  , 179.752625, 179.98735 ,\n",
       "       180.2548  , 180.499825, 180.77605 , 181.0423  , 181.3093  ,\n",
       "       181.57535 , 181.862375, 182.129325, 182.40175 , 182.656725,\n",
       "       182.9252  , 183.178525, 183.44135 , 183.720925, 183.9813  ,\n",
       "       184.2349  , 184.5012  , 184.758525, 185.0344  , 185.31315 ,\n",
       "       185.5733  , 185.850725, 186.124425, 186.3904  , 186.6574  ,\n",
       "       186.89465 , 187.151675, 187.411325, 187.663425, 187.930475,\n",
       "       188.199425, 188.46585 , 188.72655 , 188.978125, 189.2399  ,\n",
       "       189.50235 , 189.7716  , 190.026725, 190.28755 , 190.55255 ,\n",
       "       190.821075, 191.07645 , 191.3513  , 191.59915 , 191.846825,\n",
       "       192.10855 , 192.38855 , 192.65245 , 192.910875, 193.181925,\n",
       "       193.454675, 193.725625, 193.98775 , 194.2512  , 194.519   ,\n",
       "       194.770775, 195.047775, 195.31765 , 195.571625, 195.8224  ,\n",
       "       196.086775, 196.3389  , 196.612475, 196.863575, 197.1263  ,\n",
       "       197.370075, 197.6371  , 197.88275 , 198.145575, 198.39495 ,\n",
       "       198.654525, 198.90265 , 199.15965 , 199.41885 , 199.654075,\n",
       "       199.92085 , 200.178975, 200.4609  , 200.72785 , 200.9833  ,\n",
       "       201.2484  , 201.508475, 201.763825, 202.03535 , 202.30565 ,\n",
       "       202.5618  , 202.82845 , 203.08385 , 203.3398  , 203.6004  ,\n",
       "       203.86795 , 204.134025, 204.40825 , 204.686325, 204.94095 ,\n",
       "       205.207025, 205.46215 , 205.724125, 205.961975, 206.22625 ,\n",
       "       206.4964  , 206.760825, 207.085675, 207.35325 , 207.623375,\n",
       "       207.899125, 208.153325, 208.416025, 208.6692  , 208.922325,\n",
       "       209.200325, 209.47645 , 209.762025, 210.022525, 210.29835 ,\n",
       "       210.567625, 210.841025, 211.0994  , 211.3655  , 211.6213  ,\n",
       "       211.8608  , 212.1247  , 212.3805  , 212.641375, 212.8975  ,\n",
       "       213.173975, 213.440275, 213.69885 , 213.9574  , 214.22315 ,\n",
       "       214.481425, 214.741775, 215.005325, 215.306325, 215.556475,\n",
       "       215.813425, 216.089425, 216.338175, 216.586525, 216.856625,\n",
       "       217.133375, 217.3865  , 217.6626  , 217.919825, 218.185725,\n",
       "       218.462925, 218.719925, 218.98555 , 219.2553  , 219.51175 ,\n",
       "       219.768575, 220.047875, 220.28315 , 220.53855 , 220.80485 ,\n",
       "       221.052825, 221.31785 , 221.6088  , 221.881875, 222.144825,\n",
       "       222.408475, 222.677775, 222.959175, 223.212525, 223.457225,\n",
       "       223.7311  , 223.988075, 224.2507  , 224.520025, 224.780625,\n",
       "       225.04325 , 225.2979  , 225.550075, 225.826725, 226.0829  ,\n",
       "       226.321125, 226.579675, 226.861275, 227.121175, 227.394775,\n",
       "       227.646975, 227.893575, 228.152275, 228.4156  , 228.676   ,\n",
       "       228.941575, 229.1988  , 229.468775, 229.74225 , 230.017975,\n",
       "       230.27645 , 230.534975, 230.7817  , 231.04085 , 231.280125,\n",
       "       231.54585 , 231.8067  , 232.05825 , 232.3601  , 232.626975,\n",
       "       232.893475, 233.150775, 233.413975, 233.699475, 233.96675 ,\n",
       "       234.230175, 234.510675, 234.77595 , 235.044425, 235.30605 ,\n",
       "       235.56375 , 235.840425, 236.089375, 236.36535 , 236.6319  ,\n",
       "       236.895775, 237.155525, 237.42145 , 237.681975, 237.945125,\n",
       "       238.20555 , 238.471   , 238.7408  , 239.015375, 239.288525,\n",
       "       239.555425, 239.8209  , 240.0723  , 240.338425, 240.62315 ,\n",
       "       240.88135 , 241.14835 , 241.411525, 241.676725, 241.928625,\n",
       "       242.18665 , 242.453675, 242.737375, 243.003525, 243.270575,\n",
       "       243.527075, 243.79755 , 244.0641  , 244.3297  , 244.576125,\n",
       "       244.852925, 245.123075, 245.402525, 245.664575, 245.92885 ,\n",
       "       246.19375 , 246.45265 , 246.7096  , 246.987875, 247.25525 ,\n",
       "       247.51865 , 247.775425, 248.0426  , 248.292775, 248.550925,\n",
       "       248.8208  , 249.083575, 249.36075 , 249.626675, 249.894625,\n",
       "       250.170575, 250.4318  , 250.7035  , 250.961175, 251.20785 ,\n",
       "       251.468875, 251.753275, 252.021825, 252.28855 , 252.56495 ,\n",
       "       252.825375, 253.08945 , 253.383825, 253.649275, 253.915975,\n",
       "       254.173175, 254.46245 , 254.726975, 254.992275, 255.249725,\n",
       "       255.516025, 255.773225, 256.033025, 256.274775, 256.51945 ,\n",
       "       256.7771  , 257.041925, 257.299275, 257.5738  , 257.850975,\n",
       "       258.116325, 258.3878  , 258.6869  , 258.94775 , 259.20095 ,\n",
       "       259.451225, 259.7104  , 259.9748  , 260.249975, 260.5108  ,\n",
       "       260.78375 , 261.0452  , 261.3146  , 261.57395 , 261.8338  ,\n",
       "       262.100975, 262.3822  , 262.636775, 262.91835 , 263.1763  ,\n",
       "       263.455125, 263.730025, 263.99865 , 264.2813  , 264.546075,\n",
       "       264.809425, 265.0811  , 265.33315 , 265.5984  , 265.8563  ,\n",
       "       266.1312  , 266.388775, 266.6656  , 266.933075, 267.204375,\n",
       "       267.4484  , 267.719775, 267.97    , 268.227225, 268.49415 ,\n",
       "       268.773275, 269.028425, 269.2888  , 269.55125 , 269.8204  ,\n",
       "       270.07995 , 270.367475, 270.627925, 270.90385 , 271.16365 ,\n",
       "       271.436675, 271.689125, 271.962375, 272.22985 , 272.48615 ,\n",
       "       272.7427  , 273.021875, 273.285575, 273.54905 , 273.790225,\n",
       "       274.051075, 274.31675 , 274.592425, 274.849725, 275.1279  ,\n",
       "       275.383475, 275.64355 , 275.898725, 276.168125, 276.44205 ,\n",
       "       276.7077  , 276.9759  , 277.244875, 277.516925, 277.76655 ,\n",
       "       278.021675, 278.280675, 278.537825, 278.8083  , 279.077975,\n",
       "       279.359825, 279.63285 , 279.89085 , 280.147775, 280.426575,\n",
       "       280.700875, 280.956875, 281.22415 , 281.4841  , 281.73715 ,\n",
       "       281.995875, 282.253   , 282.51595 , 282.786225, 283.05595 ,\n",
       "       283.330275, 283.6101  , 283.882675, 284.132475, 284.40615 ,\n",
       "       284.66195 , 284.896775, 285.188675, 285.42535 , 285.705   ,\n",
       "       285.989075, 286.25425 , 286.4896  , 286.75395 , 287.01885 ,\n",
       "       287.288875, 287.544725, 287.807625, 288.079225, 288.329025,\n",
       "       288.60835 , 288.881225, 289.150075, 289.4011  , 289.67725 ,\n",
       "       289.926875, 290.185375, 290.4521  , 290.717275, 290.99615 ,\n",
       "       291.25685 , 291.51315 , 291.773775, 292.080375, 292.333175,\n",
       "       292.59625 , 292.869325, 293.125775, 293.392225, 293.67235 ,\n",
       "       293.93505 , 294.1908  , 294.437925, 294.694175, 294.95685 ,\n",
       "       295.22725 , 295.489625, 295.75015 , 296.010825, 296.2683  ])"
      ]
     },
     "execution_count": 58,
     "metadata": {},
     "output_type": "execute_result"
    }
   ],
   "source": [
    "timestamps_from_SPKC"
   ]
  },
  {
   "cell_type": "code",
   "execution_count": 59,
   "metadata": {},
   "outputs": [
    {
     "name": "stdout",
     "output_type": "stream",
     "text": [
      "1000 1000\n"
     ]
    },
    {
     "data": {
      "text/plain": [
       "numpy.ndarray"
      ]
     },
     "execution_count": 59,
     "metadata": {},
     "output_type": "execute_result"
    }
   ],
   "source": [
    "#長さの確認→あっている\n",
    "print(len(timestamps),len(timestamps_from_SPKC))\n",
    "type(timestamps_from_SPKC)"
   ]
  },
  {
   "cell_type": "code",
   "execution_count": 60,
   "metadata": {},
   "outputs": [
    {
     "name": "stdout",
     "output_type": "stream",
     "text": [
      "0.05000000004429239\n"
     ]
    },
    {
     "data": {
      "image/png": "[encoded data removed]",
      "text/plain": [
       "<Figure size 432x288 with 1 Axes>"
      ]
     },
     "metadata": {
      "needs_background": "light"
     },
     "output_type": "display_data"
    }
   ],
   "source": [
    "#timestampと入力した信号の残差プロット\n",
    "x=range(len(timestamps_from_SPKC))\n",
    "y=(timestamps_from_SPKC-timestamps)*1000\n",
    "print(np.max(y))\n",
    "fig=plt.figure()\n",
    "ax=fig.add_subplot(111)\n",
    "#help(ax.scatter)\n",
    "ax.scatter(x,y,color=\"k\",s=1)\n",
    "ax.set_ylim(-0.2,0.2)\n",
    "ax.set_title(\"\")\n",
    "ax.set_ylabel(\"residient time[ms]\")\n",
    "ax.set_xlabel(\"timestamp count\")\n",
    "plt.savefig(\"residient_plot_of_timestamps_50dB_click_-0.2-0.2.png\")"
   ]
  },
  {
   "cell_type": "markdown",
   "metadata": {},
   "source": []
  },
  {
   "cell_type": "markdown",
   "metadata": {},
   "source": []
  }
 ],
 "metadata": {
  "interpreter": {
   "hash": "8a01f25d31198aa0361c5c52105c6641cd18a9400015674eb7e9dc966fd18a4d"
  },
  "kernelspec": {
   "display_name": "Python 3",
   "language": "python",
   "name": "python3"
  },
  "language_info": {
   "codemirror_mode": {
    "name": "ipython",
    "version": 3
   },
   "file_extension": ".py",
   "mimetype": "text/x-python",
   "name": "python",
   "nbconvert_exporter": "python",
   "pygments_lexer": "ipython3",
   "version": "3.7.6"
  }
 },
 "nbformat": 4,
 "nbformat_minor": 2
}
